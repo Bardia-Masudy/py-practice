{
 "cells": [
  {
   "cell_type": "code",
   "execution_count": 42,
   "metadata": {},
   "outputs": [],
   "source": [
    "## Question 1: Counting DNA Nucleotides:\n",
    "file = open('/home/bardia/Downloads/rosalind_dna.txt', 'r')\n",
    "seq = file.read()\n",
    "seqDict = {'A': 0, 'C': 0, 'G': 0, 'T': 0}\n",
    "outputStr = ''\n",
    "output = open('/home/bardia/Downloads/rosalind_dna_output.txt', 'w')\n",
    "for char in seq: \n",
    "    if char in seqDict: seqDict[char] = seqDict[char]+1\n",
    "\n",
    "output.write(f'''{seqDict['A']} {seqDict['C']} {seqDict['G']} {seqDict['T']}''')\n",
    "\n",
    "output.close()\n",
    "file.close()\n",
    "#print(str(*[value for key, value in seqDict.items()]))"
   ]
  },
  {
   "cell_type": "code",
   "execution_count": 51,
   "metadata": {},
   "outputs": [],
   "source": [
    "## Question 2: Transcribing DNA into RNA\n",
    "file = open('/home/bardia/Downloads/rosalind_rna.txt', 'r')\n",
    "rna = list(file.read())\n",
    "output = open('/home/bardia/Downloads/rosalind_rna_output.txt', 'w')\n",
    "for i in range(len(rna)):\n",
    "    if rna[i] == 'T': rna[i] = 'U'\n",
    "\n",
    "output.write(''.join(rna))\n",
    "file.close()\n",
    "output.close()"
   ]
  }
 ],
 "metadata": {
  "kernelspec": {
   "display_name": "Python 3",
   "language": "python",
   "name": "python3"
  },
  "language_info": {
   "codemirror_mode": {
    "name": "ipython",
    "version": 3
   },
   "file_extension": ".py",
   "mimetype": "text/x-python",
   "name": "python",
   "nbconvert_exporter": "python",
   "pygments_lexer": "ipython3",
   "version": "3.10.6"
  },
  "orig_nbformat": 4,
  "vscode": {
   "interpreter": {
    "hash": "916dbcbb3f70747c44a77c7bcd40155683ae19c65e1c03b4aa3499c5328201f1"
   }
  }
 },
 "nbformat": 4,
 "nbformat_minor": 2
}
