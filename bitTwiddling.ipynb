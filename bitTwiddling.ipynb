{
 "cells": [
  {
   "cell_type": "code",
   "execution_count": 10,
   "metadata": {},
   "outputs": [
    {
     "name": "stdout",
     "output_type": "stream",
     "text": [
      "0 False\n",
      "1 True\n",
      "2 True\n",
      "3 False\n",
      "4 True\n",
      "5 False\n",
      "6 False\n",
      "7 False\n",
      "8 True\n"
     ]
    }
   ],
   "source": [
    "# Determine if an integer is a power of two through bitwise and (&)\n",
    "def isPowerofTwo(n : int) -> bool:\n",
    "    if n <= 0: return False\n",
    "    else: return n & (n-1) == 0\n",
    "\n",
    "for i in range(9):\n",
    "    print(i, isPowerofTwo(i))"
   ]
  }
 ],
 "metadata": {
  "kernelspec": {
   "display_name": "Python 3",
   "language": "python",
   "name": "python3"
  },
  "language_info": {
   "codemirror_mode": {
    "name": "ipython",
    "version": 3
   },
   "file_extension": ".py",
   "mimetype": "text/x-python",
   "name": "python",
   "nbconvert_exporter": "python",
   "pygments_lexer": "ipython3",
   "version": "3.10.12"
  },
  "orig_nbformat": 4
 },
 "nbformat": 4,
 "nbformat_minor": 2
}
