{
 "cells": [
  {
   "cell_type": "markdown",
   "metadata": {},
   "source": [
    "# WIP Bowyer Moore Substring Search"
   ]
  },
  {
   "cell_type": "code",
   "execution_count": 53,
   "metadata": {},
   "outputs": [],
   "source": [
    "### Boyer Moore Substring Search, WIP, needs bad character and good suffix to work.\n",
    "#def badCharacter(self, i, c):\n",
    "#    assert c in self.amap\n",
    "\n",
    "\n",
    "def boyerMoore(q, t):\n",
    "    occurences = []\n",
    "    for i in range(len(t) - len(q) + 1): # loop through range of string\n",
    "        match = True\n",
    "        for j in range(len(q)-1,-1,-1): # compare consecutive numbers of query until mismatch, in reverse order\n",
    "            if not t[i+j] == q[j]:\n",
    "                match = False\n",
    "                break\n",
    "        if match:\n",
    "            occurences.append(i) # if no mismatches occur, append to list of matches\n",
    "    return occurences"
   ]
  },
  {
   "attachments": {},
   "cell_type": "markdown",
   "metadata": {},
   "source": [
    "### indexSeq"
   ]
  },
  {
   "cell_type": "code",
   "execution_count": 119,
   "metadata": {},
   "outputs": [],
   "source": [
    "def kmerize(text: str, k: int, rev=False) -> str:\n",
    "    \n",
    "    def indexKmers(text: int, k: int) -> dict: #could add utility to skip n kmers between indexes, for later use in shortened algorithm?\n",
    "        index = {}\n",
    "        for i in range(len(text)-k+1):\n",
    "            kmer = text[i:i+k]\n",
    "            if kmer not in index:\n",
    "                index.update({kmer: [i]})\n",
    "            else:\n",
    "                kmerValues = [k for k in index.get(kmer)]\n",
    "                kmerValues.append(i)\n",
    "                index.update({kmer: kmerValues})\n",
    "        return index\n",
    "    \n",
    "    fwdIndex = indexKmers(text, k)\n",
    "    if not rev: print(fwdIndex)\n",
    "    else:\n",
    "        combinedIndex = fwdIndex\n",
    "        complements = {\"A\":\"T\", \"T\":\"A\", \"C\":\"G\", \"G\":\"C\", \"N\":\"N\"} # dict for assignment of complement bases\n",
    "        revText = ''\n",
    "        revValues = []\n",
    "        for char in text: revText = complements[char] + revText # generate reverse complement\n",
    "        revIndex = indexKmers(revText, k)\n",
    "        #print(fwdIndex)\n",
    "        #print(revIndex)\n",
    "        for key, values in revIndex.items():\n",
    "            #print(f'Key: {key}, Type-Key: {type(key)}, Values: {values}, Type-Values: {type(values)}')\n",
    "            revValues = [j+k-len(text)-1 for j in values]\n",
    "            if key not in fwdIndex:\n",
    "                combinedIndex.update({key: revValues})\n",
    "            else:\n",
    "                kmerValues = [i for i in fwdIndex.get(key)]\n",
    "                kmerValues.extend(revValues)\n",
    "                combinedIndex.update({key: kmerValues})\n",
    "        return combinedIndex\n"
   ]
  },
  {
   "cell_type": "code",
   "execution_count": null,
   "metadata": {},
   "outputs": [],
   "source": []
  },
  {
   "cell_type": "code",
   "execution_count": null,
   "metadata": {},
   "outputs": [],
   "source": [
    "### Testing output, and visualization.\n",
    "output = kmerize(\"CAGAGTCCTAAGTCAATACTCTTTCTGGGTACGGAGATCCGTTATTGTTGACAGAGTCCATCGGATGGAAAGTTTTAATATCTTACACAATTGACATTCACATCCCCTGGCATTACCTGACTACCCAAGCTCACATCTAGTATGTGGCCCGAATAGCGTAAGTTAGCGTTGTTTTACGCTGATGGCGTTGGGCTGACGCGAATCTGACGTTGGAGCAAGCGCGGTCCGACGGGCCCTCGTTAAAAACTTACCTGTTACACCTGTCTTCCCAAGTCTAACGGTTGGCCCCGGAACGGTCTAGGCCACCGTAGGGTCCGGGAGTTGAACTGGTGAAAGTAGAACACGCTGCGGTTGAGATTAGCGTGTTTGGACGACTGGCTTTAAGATTCCACATAAGTCGAATCTAATCGAAACAGCCGTAGGTCCTGGTCCTTGCTCAGGCGGCATCTAGTCCACAGGGTGAGGGTTAGGACACGGAACTTCTGATCGTAAAGGGCATGCTGGACACCGATAACTTCCCCTCAAACCAGGCGATTGCAATATTGGGACTGGTGAAGTACCTCCGGATTCACAACCGCACATGCCAGAACACCAGCTTACAGCCTTAATACGCTGGTCTAGGCCAAGCGTTCCCCTCCGTAGTTGAATAGTAAGGGTCGCAACGGGCGTCGGGGATGAGCGTAGCTTAATATAAAGGGACGAGCTATTCTGTTGGCTGTGATGGTGTGGGGTGCCTCGATGATGATAAGCATATAGTTCGGATCCGATTTGTTACAGACGAACAACTTGCGAAGTGCAAACGCCGATGAGGTATCCTATGGTCGTAAACCGCCTTAAAGGCTAGTTTTCTCTGGTTGAAGGATACCATGCCTTTATTTTACCTGAGGGGTGTTCTTTCCGGTAATTACCCGTACTCAAGGGCTTAGCTTCCCTTCTCCCGCTATTTGTCAGGCTCCTTCCCACTCTAAGGCATCACGAGTACCGCTCCAGTTTCTGGCTCTTCAGTCGGATGAGCTTGGTGGAGCAACTGATGGGTGTAACTCCCCAGGTATGTCGGTAGCCCTCCTACCGTCCATGCTAGTTTCTTTTGAGTGGGGCTTCGTATTTCTCACGCCCTACTCAAGAGGTATTGGTTCAAGTATCACGAACAGCATATTATCTCCAAGAAGGGCTCGGTTCGTGGTGGGTTGCGTGCGGACAGATGCGTACAATTAGGAAAGCTAGTCCTTCCGTGCGCCAAACCAACCCCGTGGCATGGATTAAAGGAGCCACCTCTACCCAACCGGGGGACCTATGGATGTTCACATAGGCTATACGTGGGGGTGGGTTCTCTCGCATGCCACGTTGTTGCGGTTTGTCTCCCGGCCTTCGGAAAATCCGACCGTCGTGGAAATCGAGCTAGGCATCGAATCCCCCCGTCTAGATTTCCCGCACTTCGTAGAGATGGCCCTAACGTTCCAAAGGACCTAAACTACTAAAGCATGACGAGTATTGGCATACGATAGATCATGTATCCTCACCTGTCCGTTAGTACACGTACGAGGAGCCGGCACATATGTTAGACACATACAAGCCTGGTGCCTCCTGTGCGGAGAAATGCACTTTACAGTGAGCCTATGCCGGATTGCGGGGCGCCAACTCTCTGTTTGAAGAAAATTTTATGATACGCGCTCAGGCTAAGTCCGGATAGCGCTTTGTCTGTGATAGTCGATTGGTGCCGAAGGAAGTCGGCCCCTCCATACTCAGTAGTCTCAATACCGCGAGTTCAGATTAGATAGACACACTGTCTGTCAGCTTATGATGTCTATGCAAAGAGACGCACAAGAGCTCGAGATAGCGTCCCAGCAGAGAATGGGGTGCGGAGGCTCCTTTGGAGATGACTGTGTATTCCAATCAGTTTCCTTAGTATGCTTCTCTCGGGTGGACATGGCGACCCGAACGGCGGGTTAGGTTTTCACCCCTTTGTCTGGTAAAGGAATGTCAGCTTTGGTGTACTAGTC\", 6, rev = True)\n",
    "\n",
    "print(len(f'{output.items()} k-mers'))\n",
    "for key, value in output.items():\n",
    "    print(f'{key} - {value}')"
   ]
  },
  {
   "cell_type": "markdown",
   "metadata": {},
   "source": [
    "# A tool to calculate when in the year each of the seven birthdays for a dog is. 365/7 to get exact times"
   ]
  },
  {
   "cell_type": "code",
   "execution_count": 2,
   "metadata": {},
   "outputs": [
    {
     "data": {
      "text/plain": [
       "['Day 222 --- 12:0',\n",
       " 'Day 274 --- 15:25',\n",
       " 'Day 326 --- 18:51',\n",
       " 'Day 13 --- 22:17',\n",
       " 'Day 66 --- 1:42',\n",
       " 'Day 118 --- 5:8',\n",
       " 'Day 170 --- 8:34']"
      ]
     },
     "execution_count": 2,
     "metadata": {},
     "output_type": "execute_result"
    }
   ],
   "source": [
    "from datetime import datetime\n",
    "import math\n",
    "\n",
    "def dogDays(bDay: float = 222.5):\n",
    "    dates = []\n",
    "    for i in range(7):\n",
    "        time = (bDay + 365.0 / 7 * i) % 365\n",
    "        day = math.floor(time)\n",
    "        hour = math.floor((time - day) * 24)\n",
    "        minute = math.floor((time - day - hour/24) * 1440)\n",
    "        dates.append(f\"Day {day} --- {hour}:{minute}\")\n",
    "    return dates\n",
    "    now = datetime.now()\n",
    "    return now\n",
    "\n",
    "dogDays()"
   ]
  },
  {
   "cell_type": "code",
   "execution_count": null,
   "metadata": {},
   "outputs": [],
   "source": [
    "### Utility for reading FASTA/FASTQ files for other functions.\n",
    "\n",
    "def readFASTA():\n",
    "    return\n",
    "\n",
    "    #open the file\n",
    "\n",
    "    #split file into different reads\n",
    "\n",
    "    #construct ordered list of sequences, maybe in the form [[seq#, seq, metadata, (maybe if paired?)], []...]\n",
    "\n",
    "    #return"
   ]
  }
 ],
 "metadata": {
  "kernelspec": {
   "display_name": "Python 3.11.1 64-bit",
   "language": "python",
   "name": "python3"
  },
  "language_info": {
   "codemirror_mode": {
    "name": "ipython",
    "version": 3
   },
   "file_extension": ".py",
   "mimetype": "text/x-python",
   "name": "python",
   "nbconvert_exporter": "python",
   "pygments_lexer": "ipython3",
   "version": "3.11.1"
  },
  "orig_nbformat": 4,
  "vscode": {
   "interpreter": {
    "hash": "01ac9e3e4679e50b2a3e671f8d3c35a3e356ae374b04587f23a77d547d7ba88b"
   }
  }
 },
 "nbformat": 4,
 "nbformat_minor": 2
}
