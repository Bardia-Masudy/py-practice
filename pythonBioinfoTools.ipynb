{
 "cells": [
  {
   "cell_type": "markdown",
   "metadata": {},
   "source": [
    "# WIP Bowyer Moore Substring Search"
   ]
  },
  {
   "cell_type": "code",
   "execution_count": 53,
   "metadata": {},
   "outputs": [],
   "source": [
    "### Boyer Moore Substring Search, WIP, needs bad character and good suffix to work.\n",
    "#def badCharacter(self, i, c):\n",
    "#    assert c in self.amap\n",
    "\n",
    "\n",
    "def boyerMoore(q, t):\n",
    "    occurences = []\n",
    "    for i in range(len(t) - len(q) + 1): # loop through range of string\n",
    "        match = True\n",
    "        for j in range(len(q)-1,-1,-1): # compare consecutive numbers of query until mismatch, in reverse order\n",
    "            if not t[i+j] == q[j]:\n",
    "                match = False\n",
    "                break\n",
    "        if match:\n",
    "            occurences.append(i) # if no mismatches occur, append to list of matches\n",
    "    return occurences"
   ]
  },
  {
   "cell_type": "markdown",
   "metadata": {},
   "source": [
    "# Quick contruction of k-mer hash table for sequence indexing of forward and reverse strands."
   ]
  },
  {
   "cell_type": "code",
   "execution_count": 1,
   "metadata": {},
   "outputs": [],
   "source": [
    "def kmerize(text: str, k: int, rev=False) -> str:\n",
    "    fwdIndex = {}\n",
    "    revIndex = {}\n",
    "    complements = {\"A\":\"T\", \"T\":\"A\", \"C\":\"G\", \"G\":\"C\", \"N\":\"N\"} # dict for assignment of complement bases\n",
    "    for i in range(len(text)-k+1):\n",
    "        kmer = text[i:i+k]\n",
    "        if kmer not in fwdIndex:\n",
    "            fwdIndex.update({kmer: [i]})\n",
    "        else:\n",
    "            kmerValues = [k for k in fwdIndex.get(kmer)]\n",
    "            kmerValues.append(i)\n",
    "            fwdIndex.update({kmer: kmerValues})\n",
    "    if rev:\n",
    "        for key, values in fwdIndex.items():\n",
    "            revKey = ''\n",
    "            revI = []\n",
    "            for char in key:\n",
    "                revKey = complements[char] + revKey\n",
    "            for i in values: revI.append(i + k - len(text) - 1)\n",
    "            if revKey not in fwdIndex:\n",
    "                fwdIndex.update({revKey: revI})\n",
    "            else:\n",
    "                kmerValues = [k for k in fwdIndex.get(revKey)]\n",
    "                kmerValues.append(revKey)\n",
    "                fwdIndex.update({revKey: kmerValues})\n",
    "        \n",
    "    print(fwdIndex)\n",
    "    if rev: print(revIndex)\n"
   ]
  },
  {
   "cell_type": "code",
   "execution_count": 3,
   "metadata": {},
   "outputs": [
    {
     "ename": "TypeError",
     "evalue": "unsupported operand type(s) for +: 'int' and 'str'",
     "output_type": "error",
     "traceback": [
      "\u001b[0;31m---------------------------------------------------------------------------\u001b[0m",
      "\u001b[0;31mTypeError\u001b[0m                                 Traceback (most recent call last)",
      "\u001b[0;32m/tmp/ipykernel_42779/3332025321.py\u001b[0m in \u001b[0;36m<module>\u001b[0;34m\u001b[0m\n\u001b[0;32m----> 1\u001b[0;31m \u001b[0mkmerize\u001b[0m\u001b[0;34m(\u001b[0m\u001b[0;34m\"GCATGCA\"\u001b[0m\u001b[0;34m,\u001b[0m \u001b[0;36m4\u001b[0m\u001b[0;34m,\u001b[0m \u001b[0mrev\u001b[0m \u001b[0;34m=\u001b[0m \u001b[0;32mTrue\u001b[0m\u001b[0;34m)\u001b[0m\u001b[0;34m\u001b[0m\u001b[0;34m\u001b[0m\u001b[0m\n\u001b[0m",
      "\u001b[0;32m/tmp/ipykernel_42779/281249052.py\u001b[0m in \u001b[0;36mkmerize\u001b[0;34m(text, k, rev)\u001b[0m\n\u001b[1;32m     17\u001b[0m             \u001b[0;32mfor\u001b[0m \u001b[0mchar\u001b[0m \u001b[0;32min\u001b[0m \u001b[0mkey\u001b[0m\u001b[0;34m:\u001b[0m\u001b[0;34m\u001b[0m\u001b[0;34m\u001b[0m\u001b[0m\n\u001b[1;32m     18\u001b[0m                 \u001b[0mrevKey\u001b[0m \u001b[0;34m=\u001b[0m \u001b[0mcomplements\u001b[0m\u001b[0;34m[\u001b[0m\u001b[0mchar\u001b[0m\u001b[0;34m]\u001b[0m \u001b[0;34m+\u001b[0m \u001b[0mrevKey\u001b[0m\u001b[0;34m\u001b[0m\u001b[0;34m\u001b[0m\u001b[0m\n\u001b[0;32m---> 19\u001b[0;31m             \u001b[0;32mfor\u001b[0m \u001b[0mi\u001b[0m \u001b[0;32min\u001b[0m \u001b[0mvalues\u001b[0m\u001b[0;34m:\u001b[0m \u001b[0mrevI\u001b[0m\u001b[0;34m.\u001b[0m\u001b[0mappend\u001b[0m\u001b[0;34m(\u001b[0m\u001b[0mi\u001b[0m \u001b[0;34m+\u001b[0m \u001b[0mstr\u001b[0m\u001b[0;34m(\u001b[0m\u001b[0mk\u001b[0m\u001b[0;34m)\u001b[0m \u001b[0;34m-\u001b[0m \u001b[0mlen\u001b[0m\u001b[0;34m(\u001b[0m\u001b[0mtext\u001b[0m\u001b[0;34m)\u001b[0m \u001b[0;34m-\u001b[0m \u001b[0;36m1\u001b[0m\u001b[0;34m)\u001b[0m\u001b[0;34m\u001b[0m\u001b[0;34m\u001b[0m\u001b[0m\n\u001b[0m\u001b[1;32m     20\u001b[0m             \u001b[0;32mif\u001b[0m \u001b[0mrevKey\u001b[0m \u001b[0;32mnot\u001b[0m \u001b[0;32min\u001b[0m \u001b[0mfwdIndex\u001b[0m\u001b[0;34m:\u001b[0m\u001b[0;34m\u001b[0m\u001b[0;34m\u001b[0m\u001b[0m\n\u001b[1;32m     21\u001b[0m                 \u001b[0mfwdIndex\u001b[0m\u001b[0;34m.\u001b[0m\u001b[0mupdate\u001b[0m\u001b[0;34m(\u001b[0m\u001b[0;34m{\u001b[0m\u001b[0mrevKey\u001b[0m\u001b[0;34m:\u001b[0m \u001b[0mrevI\u001b[0m\u001b[0;34m}\u001b[0m\u001b[0;34m)\u001b[0m\u001b[0;34m\u001b[0m\u001b[0;34m\u001b[0m\u001b[0m\n",
      "\u001b[0;31mTypeError\u001b[0m: unsupported operand type(s) for +: 'int' and 'str'"
     ]
    }
   ],
   "source": [
    "kmerize(\"GCATGCA\", 4, rev = True)"
   ]
  },
  {
   "cell_type": "markdown",
   "metadata": {},
   "source": [
    "# A tool to calculate when in the year each of the seven birthdays for a dog is. 365/7 to get exact times"
   ]
  },
  {
   "cell_type": "code",
   "execution_count": 22,
   "metadata": {},
   "outputs": [
    {
     "data": {
      "text/plain": [
       "['Day 222 --- 12:0',\n",
       " 'Day 274 --- 15:25',\n",
       " 'Day 326 --- 18:51',\n",
       " 'Day 13 --- 22:17',\n",
       " 'Day 66 --- 1:42',\n",
       " 'Day 118 --- 5:8',\n",
       " 'Day 170 --- 8:34']"
      ]
     },
     "execution_count": 22,
     "metadata": {},
     "output_type": "execute_result"
    }
   ],
   "source": [
    "from datetime import datetime\n",
    "import math\n",
    "\n",
    "def dogDays(bDay: float = 222.5):\n",
    "    dates = []\n",
    "    for i in range(7):\n",
    "        time = (bDay + 365.0 / 7 * i) % 365\n",
    "        day = math.floor(time)\n",
    "        hour = math.floor((time - day) * 24)\n",
    "        minute = math.floor((time - day - hour/24) * 1440)\n",
    "        dates.append(f\"Day {day} --- {hour}:{minute}\")\n",
    "    return dates\n",
    "    now = datetime.now()\n",
    "    return now\n",
    "\n",
    "dogDays()"
   ]
  }
 ],
 "metadata": {
  "kernelspec": {
   "display_name": "Python 3.10.6 64-bit",
   "language": "python",
   "name": "python3"
  },
  "language_info": {
   "codemirror_mode": {
    "name": "ipython",
    "version": 3
   },
   "file_extension": ".py",
   "mimetype": "text/x-python",
   "name": "python",
   "nbconvert_exporter": "python",
   "pygments_lexer": "ipython3",
   "version": "3.10.6"
  },
  "orig_nbformat": 4,
  "vscode": {
   "interpreter": {
    "hash": "916dbcbb3f70747c44a77c7bcd40155683ae19c65e1c03b4aa3499c5328201f1"
   }
  }
 },
 "nbformat": 4,
 "nbformat_minor": 2
}
